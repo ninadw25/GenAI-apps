{
 "cells": [
  {
   "cell_type": "code",
   "execution_count": 1,
   "metadata": {},
   "outputs": [
    {
     "data": {
      "text/plain": [
       "[Document(metadata={'source': 'example.pdf', 'page': 0, 'page_label': '1'}, page_content='Comparison:\\n \\nMatplotlib\\n \\nvs\\n \\nSeaborn\\n \\nvs\\n \\nGraphviz\\n \\nThese\\n \\nthree\\n \\nlibraries\\n \\nserve\\n \\ndifferent\\n \\npurposes\\n \\nin\\n \\ndata\\n \\nvisualization:\\n \\n \\nUse\\n \\nCases\\n \\n●\\n \\nMatplotlib\\n:\\n \\nGreat\\n \\nfor\\n \\ngeneral-purpose\\n \\nplots,\\n \\nhighly\\n \\ncustomizable\\n \\nbut\\n \\nrequires\\n \\nmore\\n \\ncode.\\n \\n●\\n \\nSeaborn\\n:\\n \\nBest\\n \\nfor\\n \\nstatistical\\n \\nvisualizations\\n \\nwith\\n \\nminimal\\n \\ncode\\n \\nand\\n \\nbetter\\n \\naesthetics.\\n \\n●\\n \\nGraphviz\\n:\\n \\nIdeal\\n \\nfor\\n \\ntree\\n \\nstructures,\\n \\ndecision\\n \\ntrees,\\n \\nflowcharts,\\n \\nand\\n \\nnetwork\\n \\ngraphs.\\nFeature\\n \\nMatplotlib\\n \\nSeaborn\\n \\nGraphviz\\n \\nPrimary\\n \\nUse\\n \\nGeneral-purpose\\n \\nplotting\\n \\nStatistical\\n \\ndata\\n \\nvisualization\\n \\nGraph-based\\n \\n(nodes\\n \\n&\\n \\nedges)\\n \\nvisualization\\n \\nComplexity\\n \\nModerate\\n \\n(requires\\n \\nsome\\n \\nsetup)\\n \\nEasier\\n \\n(built\\n \\non\\n \\nMatplotlib)\\n \\nSpecialized\\n \\nfor\\n \\ngraph\\n \\nstructures\\n \\nCustomization\\n \\nHighly\\n \\ncustomizable\\n \\nHigh\\n \\nbut\\n \\nbuilt-in\\n \\nstyles\\n \\nsimplify\\n \\ndesign\\n \\nCustomizable\\n \\nbut\\n \\nfor\\n \\nspecific\\n \\nuse\\n \\ncases\\n \\nPerformance\\n \\nEfficient\\n \\nfor\\n \\nmost\\n \\nplotting\\n \\nneeds\\n \\nSimilar\\n \\nto\\n \\nMatplotlib\\n \\nEfficient\\n \\nfor\\n \\ngraph\\n \\nstructures\\n \\nBest\\n \\nFor\\n \\nLine\\n \\ncharts,\\n \\nbar\\n \\ncharts,\\n \\nhistograms,\\n \\nscatter\\n \\nplots\\n \\nHeatmaps,\\n \\ncorrelation\\n \\nmatrices,\\n \\ncategorical\\n \\nplots\\n \\nFlowcharts,\\n \\ndecision\\n \\ntrees,\\n \\nnetwork\\n \\ngraphs\\n \\nDependencies\\n \\nStandalone\\n \\nBuilt\\n \\non\\n \\nMatplotlib\\n \\nRequires\\n \\nGraphviz\\n \\ninstallation\\n \\nEase\\n \\nof\\n \\nUse\\n \\nModerate\\n \\nEasier\\n \\ndue\\n \\nto\\n \\nbuilt-in\\n \\nthemes\\n \\nRequires\\n \\nlearning\\n \\nGraphviz’s\\n \\nDOT\\n \\nsyntax\\n '),\n",
       " Document(metadata={'source': 'example.pdf', 'page': 1, 'page_label': '2'}, page_content='SciPy\\n \\nSciPy\\n \\nis\\n \\na\\n \\ncollection\\n \\nof\\n \\nmathematical\\n \\nalgorithms\\n \\nand\\n \\nconvenience\\n \\nfunctions\\n \\nbuilt\\n \\non\\n \\nNumPy\\n \\n.\\n \\nIt\\n \\nadds\\n \\nsignificant\\n \\npower\\n \\nto\\n \\nPython\\n \\nby\\n \\nproviding\\n \\nthe\\n \\nuser\\n \\nwith\\n \\nhigh-level\\n \\ncommands\\n \\nand\\n \\nclasses\\n \\nfor\\n \\nmanipulating\\n \\nand\\n \\nvisualizing\\n \\ndata.\\n \\nSubpackages\\n \\ninclude:\\n \\ndifferentiate,\\n \\nsparse,\\n \\noptimize\\n \\netc.\\n \\n \\nNumPy\\n \\nvs\\n \\nSciPy\\n \\n \\n \\nFeature\\n \\nNumPy\\n \\nSciPy\\n \\nPurpose\\n \\nProvides\\n \\nefficient\\n \\narray\\n \\noperations\\n \\nand\\n \\nbasic\\n \\nnumerical\\n \\ncomputing\\n \\nBuilds\\n \\non\\n \\nNumPy\\n \\nwith\\n \\nadvanced\\n \\nscientific\\n \\ncomputing\\n \\nfunctions\\n \\nCore\\n \\nStrengths\\n \\nMulti-dimensional\\n \\narrays,\\n \\nlinear\\n \\nalgebra,\\n \\nrandom\\n \\nnumbers,\\n \\nbasic\\n \\nmath\\n \\noperations\\n \\nOptimized\\n \\nscientific\\n \\nalgorithms\\n \\nfor\\n \\noptimization,\\n \\nstatistics,\\n \\nsignal\\n \\nprocessing,\\n \\nand\\n \\nmore\\n \\nDependency\\n \\nStandalone\\n \\nlibrary\\n \\nDepends\\n \\non\\n \\nNumPy\\n \\nPerformance\\n \\nOptimized\\n \\nfor\\n \\narray\\n \\noperations\\n \\nUses\\n \\nNumPy\\n \\nbut\\n \\nadds\\n \\nmore\\n \\ncomputationally\\n \\nintensive\\n \\noperations\\n ')]"
      ]
     },
     "execution_count": 1,
     "metadata": {},
     "output_type": "execute_result"
    }
   ],
   "source": [
    "from langchain_community.document_loaders import PyPDFLoader\n",
    "file_path = \"example.pdf\"\n",
    "loader = PyPDFLoader(file_path)\n",
    "docs = loader.load()\n",
    "docs"
   ]
  },
  {
   "cell_type": "markdown",
   "metadata": {},
   "source": []
  },
  {
   "cell_type": "code",
   "execution_count": 4,
   "metadata": {},
   "outputs": [
    {
     "name": "stdout",
     "output_type": "stream",
     "text": [
      "[Document(metadata={'source': 'example.pdf', 'page': 0, 'page_label': '1'}, page_content='Comparison:\\n \\nMatplotlib\\n \\nvs\\n \\nSeaborn\\n \\nvs\\n \\nGraphviz\\n \\nThese\\n \\nthree\\n \\nlibraries\\n \\nserve\\n \\ndifferent\\n \\npurposes\\n \\nin\\n \\ndata\\n \\nvisualization:\\n \\n \\nUse\\n \\nCases\\n \\n●\\n \\nMatplotlib\\n:\\n \\nGreat\\n \\nfor\\n \\ngeneral-purpose\\n \\nplots,\\n \\nhighly\\n \\ncustomizable\\n \\nbut\\n \\nrequires\\n \\nmore\\n \\ncode.\\n \\n●\\n \\nSeaborn\\n:\\n \\nBest\\n \\nfor\\n \\nstatistical\\n \\nvisualizations\\n \\nwith\\n \\nminimal\\n \\ncode\\n \\nand\\n \\nbetter\\n \\naesthetics.\\n \\n●\\n \\nGraphviz\\n:\\n \\nIdeal\\n \\nfor\\n \\ntree\\n \\nstructures,\\n \\ndecision\\n \\ntrees,\\n \\nflowcharts,\\n \\nand\\n \\nnetwork\\n \\ngraphs.'), Document(metadata={'source': 'example.pdf', 'page': 0, 'page_label': '1'}, page_content='trees,\\n \\nflowcharts,\\n \\nand\\n \\nnetwork\\n \\ngraphs.\\nFeature\\n \\nMatplotlib\\n \\nSeaborn\\n \\nGraphviz\\n \\nPrimary\\n \\nUse\\n \\nGeneral-purpose\\n \\nplotting\\n \\nStatistical\\n \\ndata\\n \\nvisualization\\n \\nGraph-based\\n \\n(nodes\\n \\n&\\n \\nedges)\\n \\nvisualization\\n \\nComplexity\\n \\nModerate\\n \\n(requires\\n \\nsome\\n \\nsetup)\\n \\nEasier\\n \\n(built\\n \\non\\n \\nMatplotlib)\\n \\nSpecialized\\n \\nfor\\n \\ngraph\\n \\nstructures\\n \\nCustomization\\n \\nHighly\\n \\ncustomizable\\n \\nHigh\\n \\nbut\\n \\nbuilt-in\\n \\nstyles\\n \\nsimplify\\n \\ndesign\\n \\nCustomizable\\n \\nbut\\n \\nfor\\n \\nspecific\\n \\nuse\\n \\ncases'), Document(metadata={'source': 'example.pdf', 'page': 0, 'page_label': '1'}, page_content='Customizable\\n \\nbut\\n \\nfor\\n \\nspecific\\n \\nuse\\n \\ncases\\n \\nPerformance\\n \\nEfficient\\n \\nfor\\n \\nmost\\n \\nplotting\\n \\nneeds\\n \\nSimilar\\n \\nto\\n \\nMatplotlib\\n \\nEfficient\\n \\nfor\\n \\ngraph\\n \\nstructures\\n \\nBest\\n \\nFor\\n \\nLine\\n \\ncharts,\\n \\nbar\\n \\ncharts,\\n \\nhistograms,\\n \\nscatter\\n \\nplots\\n \\nHeatmaps,\\n \\ncorrelation\\n \\nmatrices,\\n \\ncategorical\\n \\nplots\\n \\nFlowcharts,\\n \\ndecision\\n \\ntrees,\\n \\nnetwork\\n \\ngraphs\\n \\nDependencies\\n \\nStandalone\\n \\nBuilt\\n \\non\\n \\nMatplotlib\\n \\nRequires\\n \\nGraphviz\\n \\ninstallation\\n \\nEase\\n \\nof\\n \\nUse\\n \\nModerate\\n \\nEasier'), Document(metadata={'source': 'example.pdf', 'page': 0, 'page_label': '1'}, page_content='Ease\\n \\nof\\n \\nUse\\n \\nModerate\\n \\nEasier\\n \\ndue\\n \\nto\\n \\nbuilt-in\\n \\nthemes\\n \\nRequires\\n \\nlearning\\n \\nGraphviz’s\\n \\nDOT\\n \\nsyntax'), Document(metadata={'source': 'example.pdf', 'page': 1, 'page_label': '2'}, page_content='SciPy\\n \\nSciPy\\n \\nis\\n \\na\\n \\ncollection\\n \\nof\\n \\nmathematical\\n \\nalgorithms\\n \\nand\\n \\nconvenience\\n \\nfunctions\\n \\nbuilt\\n \\non\\n \\nNumPy\\n \\n.\\n \\nIt\\n \\nadds\\n \\nsignificant\\n \\npower\\n \\nto\\n \\nPython\\n \\nby\\n \\nproviding\\n \\nthe\\n \\nuser\\n \\nwith\\n \\nhigh-level\\n \\ncommands\\n \\nand\\n \\nclasses\\n \\nfor\\n \\nmanipulating\\n \\nand\\n \\nvisualizing\\n \\ndata.\\n \\nSubpackages\\n \\ninclude:\\n \\ndifferentiate,\\n \\nsparse,\\n \\noptimize\\n \\netc.\\n \\n \\nNumPy\\n \\nvs\\n \\nSciPy\\n \\n \\n \\nFeature\\n \\nNumPy\\n \\nSciPy\\n \\nPurpose\\n \\nProvides\\n \\nefficient\\n \\narray\\n \\noperations\\n \\nand\\n \\nbasic'), Document(metadata={'source': 'example.pdf', 'page': 1, 'page_label': '2'}, page_content='efficient\\n \\narray\\n \\noperations\\n \\nand\\n \\nbasic\\n \\nnumerical\\n \\ncomputing\\n \\nBuilds\\n \\non\\n \\nNumPy\\n \\nwith\\n \\nadvanced\\n \\nscientific\\n \\ncomputing\\n \\nfunctions\\n \\nCore\\n \\nStrengths\\n \\nMulti-dimensional\\n \\narrays,\\n \\nlinear\\n \\nalgebra,\\n \\nrandom\\n \\nnumbers,\\n \\nbasic\\n \\nmath\\n \\noperations\\n \\nOptimized\\n \\nscientific\\n \\nalgorithms\\n \\nfor\\n \\noptimization,\\n \\nstatistics,\\n \\nsignal\\n \\nprocessing,\\n \\nand\\n \\nmore\\n \\nDependency\\n \\nStandalone\\n \\nlibrary\\n \\nDepends\\n \\non\\n \\nNumPy\\n \\nPerformance\\n \\nOptimized\\n \\nfor\\n \\narray\\n \\noperations\\n \\nUses'), Document(metadata={'source': 'example.pdf', 'page': 1, 'page_label': '2'}, page_content='Optimized\\n \\nfor\\n \\narray\\n \\noperations\\n \\nUses\\n \\nNumPy\\n \\nbut\\n \\nadds\\n \\nmore\\n \\ncomputationally\\n \\nintensive\\n \\noperations')]\n"
     ]
    }
   ],
   "source": [
    "from langchain_text_splitters import RecursiveCharacterTextSplitter\n",
    "\n",
    "text_splitter  = RecursiveCharacterTextSplitter(chunk_size=500, chunk_overlap=50)\n",
    "\n",
    "final_doc = text_splitter.split_documents(docs)\n",
    "print(final_doc)"
   ]
  },
  {
   "cell_type": "code",
   "execution_count": 6,
   "metadata": {},
   "outputs": [],
   "source": [
    "# Text Loader\n",
    "\n",
    "from langchain_community.document_loaders import TextLoader\n",
    "loader = TextLoader('speech.txt')\n",
    "docs = loader.load"
   ]
  },
  {
   "cell_type": "code",
   "execution_count": 8,
   "metadata": {},
   "outputs": [
    {
     "name": "stdout",
     "output_type": "stream",
     "text": [
      "The MIT License (MIT)\n",
      "#\n",
      "# Copyright (c) 2015-2020 Dylan Araps\n",
      "#\n",
      "# Permission is hereby granted, free of charge, to any person obtaining a copy\n",
      "# of this software and associated documentation files (the \"Software\"), to deal\n",
      "# in the Software without restriction, including without limitation the rights\n",
      "# to use, copy, modify, merge, publish, distribute, sublicense, and/or sell\n",
      "# copies of the Software, and to permit persons to whom the Software is\n",
      "# furnished to do so, subject to the following conditions:\n",
      "#\n",
      "# The above copyright notice and this permission notice shall be included in all\n",
      "# copies or substantial portions of the Software.\n",
      "#\n",
      "# THE SOFTWARE IS PROVIDED \"AS IS\", WITHOUT WARRANTY OF ANY KIND, EXPRESS OR\n",
      "# IMPLIED, INCLUDING BUT NOT LIMITED TO THE WARRANTIES OF MERCHANTABILITY,\n",
      "# FITNESS FOR A PARTICULAR PURPOSE AND NONINFRINGEMENT. IN NO EVENT SHALL THE\n",
      "# AUTHORS OR COPYRIGHT HOLDERS BE LIABLE FOR ANY CLAIM, DAMAGES OR OTHER\n",
      "# LIABILITY, WHETHER IN AN ACTION OF CONTRACT, TORT OR OTHERWISE, ARISING FROM,\n",
      "# OUT OF OR IN CONNECTION WITH THE SOFTWARE OR THE USE OR OTHER DEALINGS IN THE\n",
      "# SOFTWARE.\n"
     ]
    }
   ],
   "source": [
    "speech = \"\"\n",
    "with open(\"speech.txt\") as f:\n",
    "    speech = f.read()\n",
    "    \n",
    "print(speech)"
   ]
  },
  {
   "cell_type": "markdown",
   "metadata": {},
   "source": [
    "## create document to make it easier to use vectorization"
   ]
  },
  {
   "cell_type": "code",
   "execution_count": 12,
   "metadata": {},
   "outputs": [
    {
     "name": "stdout",
     "output_type": "stream",
     "text": [
      "page_content='The MIT License (MIT)\n",
      "#'\n",
      "page_content='#\n",
      "# Copyright (c) 2015-2020 Dylan Araps\n",
      "#'\n",
      "page_content='# Permission is hereby granted, free of charge,'\n",
      "page_content='charge, to any person obtaining a copy'\n"
     ]
    }
   ],
   "source": [
    "text_splitter = RecursiveCharacterTextSplitter(chunk_size = 50,chunk_overlap = 10)\n",
    "text = text_splitter.create_documents([speech])\n",
    "print (text[0])\n",
    "print (text[1])\n",
    "print (text[2])\n",
    "print (text[3])"
   ]
  },
  {
   "cell_type": "code",
   "execution_count": null,
   "metadata": {},
   "outputs": [],
   "source": []
  },
  {
   "cell_type": "markdown",
   "metadata": {},
   "source": [
    "## Character text splitter"
   ]
  },
  {
   "cell_type": "code",
   "execution_count": 13,
   "metadata": {},
   "outputs": [],
   "source": [
    "# Text Loader\n",
    "\n",
    "from langchain_community.document_loaders import TextLoader\n",
    "loader = TextLoader('speech.txt')\n",
    "docs = loader.load"
   ]
  },
  {
   "cell_type": "code",
   "execution_count": 15,
   "metadata": {},
   "outputs": [
    {
     "ename": "TypeError",
     "evalue": "'method' object is not iterable",
     "output_type": "error",
     "traceback": [
      "\u001b[0;31m---------------------------------------------------------------------------\u001b[0m",
      "\u001b[0;31mTypeError\u001b[0m                                 Traceback (most recent call last)",
      "Cell \u001b[0;32mIn[15], line 3\u001b[0m\n\u001b[1;32m      1\u001b[0m \u001b[38;5;28;01mfrom\u001b[39;00m\u001b[38;5;250m \u001b[39m\u001b[38;5;21;01mlangchain_text_splitters\u001b[39;00m\u001b[38;5;250m \u001b[39m\u001b[38;5;28;01mimport\u001b[39;00m CharacterTextSplitter\n\u001b[1;32m      2\u001b[0m text_splitter \u001b[38;5;241m=\u001b[39m CharacterTextSplitter(separator\u001b[38;5;241m=\u001b[39m\u001b[38;5;124m\"\u001b[39m\u001b[38;5;130;01m\\n\u001b[39;00m\u001b[38;5;130;01m\\n\u001b[39;00m\u001b[38;5;124m\"\u001b[39m,chunk_size \u001b[38;5;241m=\u001b[39m \u001b[38;5;241m100\u001b[39m,chunk_overlap \u001b[38;5;241m=\u001b[39m \u001b[38;5;241m20\u001b[39m)\n\u001b[0;32m----> 3\u001b[0m \u001b[43mtext_splitter\u001b[49m\u001b[38;5;241;43m.\u001b[39;49m\u001b[43msplit_documents\u001b[49m\u001b[43m(\u001b[49m\u001b[43mdocs\u001b[49m\u001b[43m)\u001b[49m\n",
      "File \u001b[0;32m~/Documents/Code/GenAI/LangChain/.venv/lib/python3.12/site-packages/langchain_text_splitters/base.py:93\u001b[0m, in \u001b[0;36mTextSplitter.split_documents\u001b[0;34m(self, documents)\u001b[0m\n\u001b[1;32m     91\u001b[0m \u001b[38;5;250m\u001b[39m\u001b[38;5;124;03m\"\"\"Split documents.\"\"\"\u001b[39;00m\n\u001b[1;32m     92\u001b[0m texts, metadatas \u001b[38;5;241m=\u001b[39m [], []\n\u001b[0;32m---> 93\u001b[0m \u001b[43m\u001b[49m\u001b[38;5;28;43;01mfor\u001b[39;49;00m\u001b[43m \u001b[49m\u001b[43mdoc\u001b[49m\u001b[43m \u001b[49m\u001b[38;5;129;43;01min\u001b[39;49;00m\u001b[43m \u001b[49m\u001b[43mdocuments\u001b[49m\u001b[43m:\u001b[49m\n\u001b[1;32m     94\u001b[0m \u001b[43m    \u001b[49m\u001b[43mtexts\u001b[49m\u001b[38;5;241;43m.\u001b[39;49m\u001b[43mappend\u001b[49m\u001b[43m(\u001b[49m\u001b[43mdoc\u001b[49m\u001b[38;5;241;43m.\u001b[39;49m\u001b[43mpage_content\u001b[49m\u001b[43m)\u001b[49m\n\u001b[1;32m     95\u001b[0m \u001b[43m    \u001b[49m\u001b[43mmetadatas\u001b[49m\u001b[38;5;241;43m.\u001b[39;49m\u001b[43mappend\u001b[49m\u001b[43m(\u001b[49m\u001b[43mdoc\u001b[49m\u001b[38;5;241;43m.\u001b[39;49m\u001b[43mmetadata\u001b[49m\u001b[43m)\u001b[49m\n",
      "\u001b[0;31mTypeError\u001b[0m: 'method' object is not iterable"
     ]
    }
   ],
   "source": [
    "from langchain_text_splitters import CharacterTextSplitter\n",
    "text_splitter = CharacterTextSplitter(separator=\"\\n\\n\",chunk_size = 100,chunk_overlap = 20)\n",
    "text_splitter.split_documents(docs)"
   ]
  },
  {
   "cell_type": "code",
   "execution_count": null,
   "metadata": {},
   "outputs": [],
   "source": []
  }
 ],
 "metadata": {
  "kernelspec": {
   "display_name": ".venv",
   "language": "python",
   "name": "python3"
  },
  "language_info": {
   "codemirror_mode": {
    "name": "ipython",
    "version": 3
   },
   "file_extension": ".py",
   "mimetype": "text/x-python",
   "name": "python",
   "nbconvert_exporter": "python",
   "pygments_lexer": "ipython3",
   "version": "3.12.3"
  }
 },
 "nbformat": 4,
 "nbformat_minor": 2
}
